{
 "cells": [
  {
   "cell_type": "markdown",
   "id": "090822ed-d654-4bc4-9e9a-f9e49bc6b575",
   "metadata": {},
   "source": [
    "# Data Science Tools and Ecosystem"
   ]
  },
  {
   "cell_type": "markdown",
   "id": "cbbf0b66-eebd-41c9-972b-2a5bc66a3cda",
   "metadata": {},
   "source": [
    "## In this notebook, Data Science Tools and Ecosystem are summarized."
   ]
  },
  {
   "cell_type": "markdown",
   "id": "1a60ee36-7316-46c8-9945-9872f0cef2c1",
   "metadata": {},
   "source": [
    "# **Objectives**\n",
    "-> List popular languages for Data Science<br>\n",
    "-> List popular libraries for Data Science<br>\n",
    "-> Creation of table<br>\n",
    "-> Solve Arithmetic expression<br>\n",
    "  "
   ]
  },
  {
   "cell_type": "markdown",
   "id": "4179d9cc-cc7c-4691-9944-a5da389e4e91",
   "metadata": {},
   "source": [
    "# Some of the popular languages that Data Scientists use are:\n",
    "1. Python\n",
    "2. Java\n",
    "3. SQL"
   ]
  },
  {
   "cell_type": "markdown",
   "id": "74e92dde-3748-46d2-8441-f723b15f7f51",
   "metadata": {},
   "source": [
    "# Some of the commonly used libraries used by Data Scientists include:\n",
    "1. NumPy\n",
    "2. Pandas\n",
    "3. Matplotlib"
   ]
  },
  {
   "cell_type": "markdown",
   "id": "6d4c835f-c10b-4ecb-a939-1a3af26e3eb9",
   "metadata": {},
   "source": [
    "| Data Science Tools |\n",
    "| :----------------- |\n",
    "| Jupyter Notebook   |\n",
    "| R Studio           |\n",
    "| Visual Studio      |"
   ]
  },
  {
   "cell_type": "markdown",
   "id": "7d8167fe-5672-4f21-8401-c69d81a32251",
   "metadata": {},
   "source": [
    "### Below are a few examples of evaluating arithmetic expressions in Python."
   ]
  },
  {
   "cell_type": "code",
   "execution_count": 1,
   "id": "9454a25a-5c71-4b58-9c36-e55c0ce153db",
   "metadata": {},
   "outputs": [],
   "source": [
    "#This a simple arithmetic expression to mutiply then add integers"
   ]
  },
  {
   "cell_type": "code",
   "execution_count": 2,
   "id": "c9be4d15-2f52-4742-ad16-85caf6dbe931",
   "metadata": {},
   "outputs": [
    {
     "name": "stdout",
     "output_type": "stream",
     "text": [
      "17\n"
     ]
    }
   ],
   "source": [
    "x=3\n",
    "y=4\n",
    "z=5\n",
    "s=(x*y)+z\n",
    "print(s)"
   ]
  },
  {
   "cell_type": "code",
   "execution_count": 3,
   "id": "29721ef2-cc47-4460-a5f9-90a589b741e1",
   "metadata": {},
   "outputs": [],
   "source": [
    "#This will convert 200 minutes to hours by diving by 60"
   ]
  },
  {
   "cell_type": "code",
   "execution_count": 4,
   "id": "ed0954f6-91d8-47c6-b048-ff4edd27873a",
   "metadata": {},
   "outputs": [
    {
     "name": "stdout",
     "output_type": "stream",
     "text": [
      "3.3333333333333335\n"
     ]
    }
   ],
   "source": [
    "x=200\n",
    "y=60\n",
    "z=x/y\n",
    "print(z)"
   ]
  },
  {
   "cell_type": "markdown",
   "id": "52359280-660a-4628-affb-8784dc4020a3",
   "metadata": {},
   "source": [
    "## Author"
   ]
  },
  {
   "cell_type": "code",
   "execution_count": null,
   "id": "4ec59bc0-b5c8-4366-a670-f4f797878957",
   "metadata": {},
   "outputs": [],
   "source": [
    "Yash Chavan"
   ]
  }
 ],
 "metadata": {
  "kernelspec": {
   "display_name": "Python 3 (ipykernel)",
   "language": "python",
   "name": "python3"
  },
  "language_info": {
   "codemirror_mode": {
    "name": "ipython",
    "version": 3
   },
   "file_extension": ".py",
   "mimetype": "text/x-python",
   "name": "python",
   "nbconvert_exporter": "python",
   "pygments_lexer": "ipython3",
   "version": "3.11.7"
  }
 },
 "nbformat": 4,
 "nbformat_minor": 5
}
